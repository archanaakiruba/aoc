{
 "cells": [
  {
   "cell_type": "markdown",
   "id": "d6820745",
   "metadata": {},
   "source": [
    "## Challenge\n",
    "\n",
    "The newly-improved calibration document consists of lines of text; each line originally contained a specific calibration value that the Elves now need to recover. On each line, the calibration value can be found by combining the first digit and the last digit (in that order) to form a single two-digit number.\n",
    "\n",
    "**For example:**\n",
    "\n",
    "- 1abc2\n",
    "- pqr3stu8vwx\n",
    "- a1b2c3d4e5f\n",
    "- treb7uchet\n",
    "\n",
    "In this example, the calibration values of these four lines are 12, 38, 15, and 77. Adding these together produces 142.\n",
    "\n",
    "**Consider your entire calibration document. What is the sum of all of the calibration values?**\n"
   ]
  },
  {
   "cell_type": "code",
   "execution_count": 1,
   "id": "0b947170",
   "metadata": {},
   "outputs": [],
   "source": [
    "import re"
   ]
  },
  {
   "cell_type": "code",
   "execution_count": 2,
   "id": "c1b334bd",
   "metadata": {},
   "outputs": [],
   "source": [
    "# Function to get the calibration values for each word\n",
    "def get_calibration_values(word):\n",
    "    nums = re.findall(r'\\d', word)\n",
    "    \n",
    "    if nums:\n",
    "        calib_vals = int(nums[0] + nums[-1])\n",
    "        return calib_vals\n",
    "\n",
    "    return 0"
   ]
  },
  {
   "cell_type": "code",
   "execution_count": 3,
   "id": "e9a5a34b",
   "metadata": {},
   "outputs": [
    {
     "name": "stdout",
     "output_type": "stream",
     "text": [
      "Sum of the Calibartion Values: 54159\n"
     ]
    }
   ],
   "source": [
    "# Read the input\n",
    "with open('input.txt', 'r') as file:\n",
    "    input_string = file.read()\n",
    "\n",
    "words = input_string.split()\n",
    "\n",
    "# Add all the calibration values\n",
    "total_sum = 0\n",
    "for word in words:\n",
    "    calib_vals = get_calibration_values(word)\n",
    "    total_sum += calib_vals\n",
    "\n",
    "print(f\"Sum of the Calibartion Values: {total_sum}\")"
   ]
  }
 ],
 "metadata": {
  "kernelspec": {
   "display_name": "Python 3 (ipykernel)",
   "language": "python",
   "name": "python3"
  },
  "language_info": {
   "codemirror_mode": {
    "name": "ipython",
    "version": 3
   },
   "file_extension": ".py",
   "mimetype": "text/x-python",
   "name": "python",
   "nbconvert_exporter": "python",
   "pygments_lexer": "ipython3",
   "version": "3.10.6"
  },
  "toc": {
   "base_numbering": 1,
   "nav_menu": {},
   "number_sections": true,
   "sideBar": true,
   "skip_h1_title": false,
   "title_cell": "Table of Contents",
   "title_sidebar": "Contents",
   "toc_cell": false,
   "toc_position": {},
   "toc_section_display": true,
   "toc_window_display": false
  }
 },
 "nbformat": 4,
 "nbformat_minor": 5
}
