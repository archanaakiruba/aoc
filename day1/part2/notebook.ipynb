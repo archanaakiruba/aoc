{
 "cells": [
  {
   "cell_type": "code",
   "execution_count": 354,
   "id": "e342c7e7",
   "metadata": {},
   "outputs": [],
   "source": [
    "import re"
   ]
  },
  {
   "cell_type": "code",
   "execution_count": 207,
   "id": "c3c5c7be",
   "metadata": {},
   "outputs": [
    {
     "data": {
      "text/plain": [
       "53866"
      ]
     },
     "execution_count": 207,
     "metadata": {},
     "output_type": "execute_result"
    }
   ],
   "source": [
    "with open('input.txt', 'r') as file:\n",
    "    input_string = file.read().splitlines()\n",
    "    \n",
    "# Create a dictionary based on the calibration\n",
    "words = [\"one\", \"two\", \"three\", \"four\", \"five\", \"six\", \"seven\", \"eight\", \"nine\"]\n",
    "word_dict = {word: str(index) for index, word in enumerate(words, 1)}\n",
    "num_dict = {str(num): str(num) for num in range(1, 10)}\n",
    "\n",
    "calibration_dict = {**word_dict,**num_dict}\n",
    "\n",
    "# Pattern to match the keys from the dict\n",
    "pattern = f'(?=({\"|\".join(calibration_dict.keys())}))'\n",
    "              \n",
    "total_sum = 0\n",
    "for text in input_string:\n",
    "    digits = re.findall(pattern, text)\n",
    "    if digits:\n",
    "        calib_vals = int(calibration_dict[digits[0]] + calibration_dict[digits[-1]])\n",
    "        total_sum += calib_vals\n",
    "\n",
    "total_sum"
   ]
  },
  {
   "cell_type": "code",
   "execution_count": 198,
   "id": "dace6578",
   "metadata": {},
   "outputs": [
    {
     "name": "stdout",
     "output_type": "stream",
     "text": [
      "[]\n",
      "['foo']\n"
     ]
    }
   ],
   "source": [
    "# Positive look ahead\n",
    "\n",
    "input_string = \"foo bar\"\n",
    "pattern = r'foo(?=bar)' # Pattern with positive lookahead\n",
    "\n",
    "matches = re.findall(pattern, input_string)\n",
    "print(matches)\n",
    "\n",
    "\n",
    "pattern_without_lookahead = r'foo'  # Pattern without positive lookahead\n",
    "\n",
    "matches_without_lookahead = re.findall(pattern_without_lookahead, input_string)\n",
    "print(matches_without_lookahead) "
   ]
  },
  {
   "cell_type": "markdown",
   "id": "51f50ee2",
   "metadata": {},
   "source": [
    "## Other ways"
   ]
  },
  {
   "cell_type": "code",
   "execution_count": 197,
   "id": "4d3dffdd",
   "metadata": {},
   "outputs": [
    {
     "data": {
      "text/plain": [
       "281"
      ]
     },
     "execution_count": 197,
     "metadata": {},
     "output_type": "execute_result"
    }
   ],
   "source": [
    "ans2 = 0\n",
    "pattern = r\"(?=([0-9]|one|two|three|four|five|six|seven|eight|nine))\"\n",
    "numbers = {\n",
    "        \"one\": \"1\",\n",
    "        \"two\": \"2\",\n",
    "        \"three\": \"3\",\n",
    "        \"four\": \"4\",\n",
    "        \"five\": \"5\",\n",
    "        \"six\": \"6\",\n",
    "        \"seven\": \"7\",\n",
    "        \"eight\": \"8\",\n",
    "        \"nine\": \"9\",\n",
    "    }\n",
    "\n",
    "with open(\"sample_input.txt\", 'r') as f:\n",
    "    document = [line.strip() for line in f]\n",
    "    \n",
    "    \n",
    "for line in document:\n",
    "    digits = re.findall(pattern, line)\n",
    "    digit = numbers.get(digits[0], digits[0]) + numbers.get(digits[-1], digits[-1])\n",
    "    ans2 += int(digit)\n",
    "\n",
    "ans2"
   ]
  },
  {
   "cell_type": "code",
   "execution_count": 194,
   "id": "6d71d5d6",
   "metadata": {},
   "outputs": [
    {
     "name": "stdout",
     "output_type": "stream",
     "text": [
      "['t2o1n9e', 'e8t2ot3e', 'abco1e2t3exyz', 'xt2o1e3f4r', '4n9ee8ts7n2', 'zo1e8t234', '7pqrsts6xteen']\n"
     ]
    },
    {
     "data": {
      "text/plain": [
       "281"
      ]
     },
     "execution_count": 194,
     "metadata": {},
     "output_type": "execute_result"
    }
   ],
   "source": [
    "from functools import reduce\n",
    "\n",
    "with open(\"sample_input.txt\", 'r') as f:\n",
    "    data1 = [line.strip() for line in f]\n",
    "\n",
    "list_number = [('one', 'o1e'), ('two', 't2o'), ('three', 't3e'), ('four', 'f4r'), ('five', 'f5e'), ('six', 's6x'),\n",
    "               ('seven', 's7n'), ('eight', 'e8t'), ('nine', 'n9e')]\n",
    "\n",
    "data1_bis = [reduce(lambda s,r: s.replace(*r), list_number, x) for x in data1]\n",
    "print(data1_bis)\n",
    "answer2 = sum([int([c for c in x if c in '0123456789'][0] + [c for c in x if c in '0123456789'][-1]) for x in data1_bis])\n",
    "\n",
    "answer2"
   ]
  },
  {
   "cell_type": "code",
   "execution_count": 19,
   "id": "9feb5b48",
   "metadata": {},
   "outputs": [
    {
     "name": "stdout",
     "output_type": "stream",
     "text": [
      "53866\n"
     ]
    }
   ],
   "source": [
    "import re\n",
    "\n",
    "total=0\n",
    "\n",
    "# Open the file in read mode\n",
    "with open('input.txt', 'r') as file:\n",
    "    # Read each line in the file one by one\n",
    "    for line in file:\n",
    "        line_content = line.strip()\n",
    "        line_content = re.sub(r'oneight', '18', line_content)\n",
    "        line_content = re.sub(r'twone', '21', line_content)\n",
    "        line_content = re.sub(r'threeight', '38', line_content)\n",
    "        line_content = re.sub(r'fiveight', '58', line_content)\n",
    "        line_content = re.sub(r'nineight', '98', line_content)\n",
    "        line_content = re.sub(r'sevenine', '79', line_content)\n",
    "        line_content = re.sub(r'sevenineight', '798', line_content)\n",
    "        line_content = re.sub(r'eighthree', '83', line_content)\n",
    "        line_content = re.sub(r'eightwo', '82', line_content)\n",
    "        line_content = re.sub(r'one', '1', line_content)\n",
    "        line_content = re.sub(r'two', '2', line_content)\n",
    "        line_content = re.sub(r'three', '3', line_content)\n",
    "        line_content = re.sub(r'four', '4', line_content)\n",
    "        line_content = re.sub(r'five', '5', line_content)\n",
    "        line_content = re.sub(r'six', '6', line_content)\n",
    "        line_content = re.sub(r'seven', '7', line_content)\n",
    "        line_content = re.sub(r'eight', '8', line_content)\n",
    "        line_content = re.sub(r'nine', '9', line_content)\n",
    "        digits_str = re.sub(r'\\D', '', line_content)\n",
    "        if(len(digits_str) >= 2):\n",
    "            num = int(digits_str[0] + digits_str[len(digits_str)-1])\n",
    "        elif(len(digits_str) == 1):\n",
    "            num = int(digits_str[0] + digits_str[0])\n",
    "        total = total + num\n",
    " \n",
    "print(total)"
   ]
  }
 ],
 "metadata": {
  "kernelspec": {
   "display_name": "Python 3 (ipykernel)",
   "language": "python",
   "name": "python3"
  },
  "language_info": {
   "codemirror_mode": {
    "name": "ipython",
    "version": 3
   },
   "file_extension": ".py",
   "mimetype": "text/x-python",
   "name": "python",
   "nbconvert_exporter": "python",
   "pygments_lexer": "ipython3",
   "version": "3.10.6"
  },
  "toc": {
   "base_numbering": 1,
   "nav_menu": {},
   "number_sections": true,
   "sideBar": true,
   "skip_h1_title": false,
   "title_cell": "Table of Contents",
   "title_sidebar": "Contents",
   "toc_cell": false,
   "toc_position": {},
   "toc_section_display": true,
   "toc_window_display": false
  }
 },
 "nbformat": 4,
 "nbformat_minor": 5
}
